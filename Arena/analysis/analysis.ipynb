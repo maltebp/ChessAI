{
 "cells": [
  {
   "cell_type": "markdown",
   "id": "39ccad6e",
   "metadata": {},
   "source": [
    "# Arena Analysis"
   ]
  },
  {
   "cell_type": "code",
   "execution_count": 7,
   "id": "cc578e4d",
   "metadata": {
    "scrolled": false
   },
   "outputs": [],
   "source": [
    "from util import *"
   ]
  },
  {
   "cell_type": "markdown",
   "id": "c05aa2e3",
   "metadata": {},
   "source": [
    "## Load data"
   ]
  },
  {
   "cell_type": "code",
   "execution_count": 8,
   "id": "f12d2571",
   "metadata": {
    "scrolled": true
   },
   "outputs": [
    {
     "name": "stdout",
     "output_type": "stream",
     "text": [
      "Loaded game results: \n",
      "  data\\base1_4_8000_01_11.csv\n",
      "  data\\base1_4_8000_01_11_2.csv\n",
      "  data\\base1_5_8000_01_11.csv\n",
      "  data\\base1_5_8000_31_10.csv\n",
      "  data\\turbo1_6_8000_03_11.csv\n",
      "  data\\turbo2_6_8000_1.csv\n",
      "  data\\turbo2_6_8000_2.csv\n",
      "  data\\turbo2_6_8000_3.csv\n",
      "  data\\turbo2_timed_10000.csv\n",
      "  data\\turbo2_timed_8000.csv\n",
      "  data\\turbo3_timed_10000.csv\n",
      "  data\\turbo3_timed_nobook_10000.csv\n",
      "  data\\turbo4_1.csv\n",
      "  data\\turbo4_2.csv\n"
     ]
    }
   ],
   "source": [
    "all_data = load_data()"
   ]
  },
  {
   "cell_type": "markdown",
   "id": "807de651",
   "metadata": {},
   "source": [
    "__Removing selected tags:__"
   ]
  },
  {
   "cell_type": "code",
   "execution_count": 9,
   "id": "48d8600e",
   "metadata": {},
   "outputs": [],
   "source": [
    "tags_to_remove = [\n",
    "    'base_1_4_8000',\n",
    "    'base_1_5_8000',\n",
    "    'turbo2_timed_8000',\n",
    "    'turbo3_timed_nobook_10000.csv'\n",
    "];\n",
    "\n",
    "all_data = remove_tags(all_data, tags_to_remove)"
   ]
  },
  {
   "cell_type": "markdown",
   "id": "c9cc975a",
   "metadata": {},
   "source": [
    "## Samples"
   ]
  },
  {
   "cell_type": "code",
   "execution_count": 10,
   "id": "b12678ce",
   "metadata": {},
   "outputs": [
    {
     "data": {
      "text/html": [
       "<div>\n",
       "<style scoped>\n",
       "    .dataframe tbody tr th:only-of-type {\n",
       "        vertical-align: middle;\n",
       "    }\n",
       "\n",
       "    .dataframe tbody tr th {\n",
       "        vertical-align: top;\n",
       "    }\n",
       "\n",
       "    .dataframe thead th {\n",
       "        text-align: right;\n",
       "    }\n",
       "</style>\n",
       "<table border=\"1\" class=\"dataframe\">\n",
       "  <thead>\n",
       "    <tr style=\"text-align: right;\">\n",
       "      <th></th>\n",
       "      <th>tag</th>\n",
       "      <th>samples</th>\n",
       "    </tr>\n",
       "  </thead>\n",
       "  <tbody>\n",
       "    <tr>\n",
       "      <th>0</th>\n",
       "      <td>turbo1_6_8000</td>\n",
       "      <td>91</td>\n",
       "    </tr>\n",
       "    <tr>\n",
       "      <th>1</th>\n",
       "      <td>turbo2_6_8000</td>\n",
       "      <td>110</td>\n",
       "    </tr>\n",
       "    <tr>\n",
       "      <th>2</th>\n",
       "      <td>turbo2_timed_10000</td>\n",
       "      <td>114</td>\n",
       "    </tr>\n",
       "    <tr>\n",
       "      <th>3</th>\n",
       "      <td>turbo3_timed_10000</td>\n",
       "      <td>119</td>\n",
       "    </tr>\n",
       "    <tr>\n",
       "      <th>4</th>\n",
       "      <td>turbo4_timed_10000</td>\n",
       "      <td>92</td>\n",
       "    </tr>\n",
       "  </tbody>\n",
       "</table>\n",
       "</div>"
      ],
      "text/plain": [
       "                  tag  samples\n",
       "0       turbo1_6_8000       91\n",
       "1       turbo2_6_8000      110\n",
       "2  turbo2_timed_10000      114\n",
       "3  turbo3_timed_10000      119\n",
       "4  turbo4_timed_10000       92"
      ]
     },
     "metadata": {},
     "output_type": "display_data"
    }
   ],
   "source": [
    "num_samples_table(all_data)"
   ]
  },
  {
   "cell_type": "markdown",
   "id": "df8a339a",
   "metadata": {},
   "source": [
    "## Win ratio"
   ]
  },
  {
   "cell_type": "code",
   "execution_count": 11,
   "id": "206e3daa",
   "metadata": {},
   "outputs": [
    {
     "data": {
      "image/png": "[encoded data removed]",
      "text/plain": [
       "<Figure size 1296x576 with 1 Axes>"
      ]
     },
     "metadata": {
      "needs_background": "light"
     },
     "output_type": "display_data"
    },
    {
     "data": {
      "text/html": [
       "<div>\n",
       "<style scoped>\n",
       "    .dataframe tbody tr th:only-of-type {\n",
       "        vertical-align: middle;\n",
       "    }\n",
       "\n",
       "    .dataframe tbody tr th {\n",
       "        vertical-align: top;\n",
       "    }\n",
       "\n",
       "    .dataframe thead th {\n",
       "        text-align: right;\n",
       "    }\n",
       "</style>\n",
       "<table border=\"1\" class=\"dataframe\">\n",
       "  <thead>\n",
       "    <tr style=\"text-align: right;\">\n",
       "      <th></th>\n",
       "      <th>overall_win_ratio</th>\n",
       "      <th>white_win_ratio</th>\n",
       "      <th>white_draw_ratio</th>\n",
       "      <th>black_win_ratio</th>\n",
       "      <th>black_draw_ratio</th>\n",
       "    </tr>\n",
       "    <tr>\n",
       "      <th>tag</th>\n",
       "      <th></th>\n",
       "      <th></th>\n",
       "      <th></th>\n",
       "      <th></th>\n",
       "      <th></th>\n",
       "    </tr>\n",
       "  </thead>\n",
       "  <tbody>\n",
       "    <tr>\n",
       "      <th>turbo1_6_8000</th>\n",
       "      <td>0.813187</td>\n",
       "      <td>0.804348</td>\n",
       "      <td>0.000000</td>\n",
       "      <td>0.822222</td>\n",
       "      <td>0.000000</td>\n",
       "    </tr>\n",
       "    <tr>\n",
       "      <th>turbo2_6_8000</th>\n",
       "      <td>0.772727</td>\n",
       "      <td>0.857143</td>\n",
       "      <td>0.035714</td>\n",
       "      <td>0.685185</td>\n",
       "      <td>0.018519</td>\n",
       "    </tr>\n",
       "    <tr>\n",
       "      <th>turbo2_timed_10000</th>\n",
       "      <td>0.771930</td>\n",
       "      <td>0.807018</td>\n",
       "      <td>0.000000</td>\n",
       "      <td>0.736842</td>\n",
       "      <td>0.000000</td>\n",
       "    </tr>\n",
       "    <tr>\n",
       "      <th>turbo3_timed_10000</th>\n",
       "      <td>0.714286</td>\n",
       "      <td>0.766667</td>\n",
       "      <td>0.050000</td>\n",
       "      <td>0.661017</td>\n",
       "      <td>0.016949</td>\n",
       "    </tr>\n",
       "    <tr>\n",
       "      <th>turbo4_timed_10000</th>\n",
       "      <td>0.684783</td>\n",
       "      <td>0.702128</td>\n",
       "      <td>0.000000</td>\n",
       "      <td>0.666667</td>\n",
       "      <td>0.000000</td>\n",
       "    </tr>\n",
       "  </tbody>\n",
       "</table>\n",
       "</div>"
      ],
      "text/plain": [
       "                    overall_win_ratio  white_win_ratio  white_draw_ratio  \\\n",
       "tag                                                                        \n",
       "turbo1_6_8000                0.813187         0.804348          0.000000   \n",
       "turbo2_6_8000                0.772727         0.857143          0.035714   \n",
       "turbo2_timed_10000           0.771930         0.807018          0.000000   \n",
       "turbo3_timed_10000           0.714286         0.766667          0.050000   \n",
       "turbo4_timed_10000           0.684783         0.702128          0.000000   \n",
       "\n",
       "                    black_win_ratio  black_draw_ratio  \n",
       "tag                                                    \n",
       "turbo1_6_8000              0.822222          0.000000  \n",
       "turbo2_6_8000              0.685185          0.018519  \n",
       "turbo2_timed_10000         0.736842          0.000000  \n",
       "turbo3_timed_10000         0.661017          0.016949  \n",
       "turbo4_timed_10000         0.666667          0.000000  "
      ]
     },
     "metadata": {},
     "output_type": "display_data"
    }
   ],
   "source": [
    "win_ratio_chart(all_data)"
   ]
  },
  {
   "cell_type": "markdown",
   "id": "e525cb5d",
   "metadata": {},
   "source": [
    "## Turns\n",
    "Number of turns as White and as Black..."
   ]
  }
 ],
 "metadata": {
  "kernelspec": {
   "display_name": "Python 3 (ipykernel)",
   "language": "python",
   "name": "python3"
  },
  "language_info": {
   "codemirror_mode": {
    "name": "ipython",
    "version": 3
   },
   "file_extension": ".py",
   "mimetype": "text/x-python",
   "name": "python",
   "nbconvert_exporter": "python",
   "pygments_lexer": "ipython3",
   "version": "3.9.2"
  }
 },
 "nbformat": 4,
 "nbformat_minor": 5
}
