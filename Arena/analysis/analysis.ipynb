{
 "cells": [
  {
   "cell_type": "markdown",
   "id": "39ccad6e",
   "metadata": {},
   "source": [
    "# Arena Analysis"
   ]
  },
  {
   "cell_type": "code",
   "execution_count": 1,
   "id": "cc578e4d",
   "metadata": {
    "scrolled": false
   },
   "outputs": [],
   "source": [
    "from util import *"
   ]
  },
  {
   "cell_type": "markdown",
   "id": "c05aa2e3",
   "metadata": {},
   "source": [
    "### Load data"
   ]
  },
  {
   "cell_type": "code",
   "execution_count": 2,
   "id": "f12d2571",
   "metadata": {},
   "outputs": [
    {
     "name": "stdout",
     "output_type": "stream",
     "text": [
      "Loaded game results: \n",
      "  data\\base1_4_8000_01_11.csv\n",
      "  data\\base1_4_8000_01_11_2.csv\n",
      "  data\\base1_5_8000_01_11.csv\n",
      "  data\\base1_5_8000_31_10.csv\n",
      "  data\\turbo1_6_8000_03_11.csv\n"
     ]
    }
   ],
   "source": [
    "all_data = load_data()"
   ]
  },
  {
   "cell_type": "code",
   "execution_count": 3,
   "id": "17dfc934",
   "metadata": {},
   "outputs": [],
   "source": [
    "#display(all_data)"
   ]
  },
  {
   "cell_type": "code",
   "execution_count": 7,
   "id": "3b440a2b",
   "metadata": {},
   "outputs": [
    {
     "data": {
      "text/plain": [
       "tag\n",
       "base_1_4_8000      17.513016\n",
       "base_1_5_8000     312.535310\n",
       "turbo_1_6_8000     82.424725\n",
       "Name: engine1_time, dtype: float64"
      ]
     },
     "metadata": {},
     "output_type": "display_data"
    },
    {
     "data": {
      "text/plain": [
       "tag\n",
       "base_1_4_8000     309.094127\n",
       "base_1_5_8000     367.251062\n",
       "turbo_1_6_8000    313.766264\n",
       "Name: engine2_time, dtype: float64"
      ]
     },
     "metadata": {},
     "output_type": "display_data"
    }
   ],
   "source": [
    "\n",
    "display(all_data.groupby('tag')['engine1_time'].mean())\n",
    "display(all_data.groupby('tag')['engine2_time'].mean())"
   ]
  },
  {
   "cell_type": "markdown",
   "id": "df8a339a",
   "metadata": {},
   "source": [
    "## Win ratio"
   ]
  },
  {
   "cell_type": "code",
   "execution_count": 5,
   "id": "206e3daa",
   "metadata": {},
   "outputs": [
    {
     "data": {
      "image/png": "[encoded data removed]",
      "text/plain": [
       "<Figure size 1296x576 with 1 Axes>"
      ]
     },
     "metadata": {
      "needs_background": "light"
     },
     "output_type": "display_data"
    },
    {
     "data": {
      "text/html": [
       "<div>\n",
       "<style scoped>\n",
       "    .dataframe tbody tr th:only-of-type {\n",
       "        vertical-align: middle;\n",
       "    }\n",
       "\n",
       "    .dataframe tbody tr th {\n",
       "        vertical-align: top;\n",
       "    }\n",
       "\n",
       "    .dataframe thead th {\n",
       "        text-align: right;\n",
       "    }\n",
       "</style>\n",
       "<table border=\"1\" class=\"dataframe\">\n",
       "  <thead>\n",
       "    <tr style=\"text-align: right;\">\n",
       "      <th></th>\n",
       "      <th>overall_win_ratio</th>\n",
       "      <th>white_win_ratio</th>\n",
       "      <th>white_draw_ratio</th>\n",
       "      <th>black_win_ratio</th>\n",
       "      <th>black_draw_ratio</th>\n",
       "    </tr>\n",
       "    <tr>\n",
       "      <th>tag</th>\n",
       "      <th></th>\n",
       "      <th></th>\n",
       "      <th></th>\n",
       "      <th></th>\n",
       "      <th></th>\n",
       "    </tr>\n",
       "  </thead>\n",
       "  <tbody>\n",
       "    <tr>\n",
       "      <th>base_1_4_8000</th>\n",
       "      <td>0.333333</td>\n",
       "      <td>0.393939</td>\n",
       "      <td>0.030303</td>\n",
       "      <td>0.266667</td>\n",
       "      <td>0.000000</td>\n",
       "    </tr>\n",
       "    <tr>\n",
       "      <th>base_1_5_8000</th>\n",
       "      <td>0.557522</td>\n",
       "      <td>0.649123</td>\n",
       "      <td>0.017544</td>\n",
       "      <td>0.464286</td>\n",
       "      <td>0.053571</td>\n",
       "    </tr>\n",
       "    <tr>\n",
       "      <th>turbo_1_6_8000</th>\n",
       "      <td>0.813187</td>\n",
       "      <td>0.804348</td>\n",
       "      <td>0.000000</td>\n",
       "      <td>0.822222</td>\n",
       "      <td>0.000000</td>\n",
       "    </tr>\n",
       "  </tbody>\n",
       "</table>\n",
       "</div>"
      ],
      "text/plain": [
       "                overall_win_ratio  white_win_ratio  white_draw_ratio  \\\n",
       "tag                                                                    \n",
       "base_1_4_8000            0.333333         0.393939          0.030303   \n",
       "base_1_5_8000            0.557522         0.649123          0.017544   \n",
       "turbo_1_6_8000           0.813187         0.804348          0.000000   \n",
       "\n",
       "                black_win_ratio  black_draw_ratio  \n",
       "tag                                                \n",
       "base_1_4_8000          0.266667          0.000000  \n",
       "base_1_5_8000          0.464286          0.053571  \n",
       "turbo_1_6_8000         0.822222          0.000000  "
      ]
     },
     "metadata": {},
     "output_type": "display_data"
    }
   ],
   "source": [
    "win_ratio_chart(all_data)"
   ]
  },
  {
   "cell_type": "markdown",
   "id": "e525cb5d",
   "metadata": {},
   "source": [
    "## Turns\n",
    "Number of turns as White and as Black..."
   ]
  }
 ],
 "metadata": {
  "kernelspec": {
   "display_name": "Python 3 (ipykernel)",
   "language": "python",
   "name": "python3"
  },
  "language_info": {
   "codemirror_mode": {
    "name": "ipython",
    "version": 3
   },
   "file_extension": ".py",
   "mimetype": "text/x-python",
   "name": "python",
   "nbconvert_exporter": "python",
   "pygments_lexer": "ipython3",
   "version": "3.9.2"
  }
 },
 "nbformat": 4,
 "nbformat_minor": 5
}
