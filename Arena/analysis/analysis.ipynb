{
 "cells": [
  {
   "cell_type": "markdown",
   "id": "39ccad6e",
   "metadata": {},
   "source": [
    "# Arena Analysis"
   ]
  },
  {
   "cell_type": "code",
   "execution_count": 1,
   "id": "cc578e4d",
   "metadata": {
    "scrolled": false
   },
   "outputs": [],
   "source": [
    "from util import *"
   ]
  },
  {
   "cell_type": "markdown",
   "id": "c05aa2e3",
   "metadata": {},
   "source": [
    "## Load data"
   ]
  },
  {
   "cell_type": "code",
   "execution_count": 2,
   "id": "f12d2571",
   "metadata": {
    "scrolled": true
   },
   "outputs": [
    {
     "name": "stdout",
     "output_type": "stream",
     "text": [
      "Loaded game results: \n",
      "  data\\base1_4_8000_01_11.csv\n",
      "  data\\base1_4_8000_01_11_2.csv\n",
      "  data\\base1_5_8000_01_11.csv\n",
      "  data\\base1_5_8000_31_10.csv\n",
      "  data\\turbo1_6_8000_03_11.csv\n",
      "  data\\turbo2_6_8000_1.csv\n",
      "  data\\turbo2_6_8000_2.csv\n",
      "  data\\turbo2_6_8000_3.csv\n",
      "  data\\turbo2_timed_10000.csv\n",
      "  data\\turbo2_timed_8000.csv\n",
      "  data\\turbo3_timed_10000.csv\n",
      "  data\\turbo3_timed_nobook_10000.csv\n",
      "  data\\turbo4_1.csv\n",
      "  data\\turbo4_2.csv\n",
      "  data\\turbo4_3.csv\n",
      "  data\\turbo4_4.csv\n"
     ]
    }
   ],
   "source": [
    "all_data = load_data()"
   ]
  },
  {
   "cell_type": "markdown",
   "id": "d43ab7f8",
   "metadata": {},
   "source": [
    "## Samples"
   ]
  },
  {
   "cell_type": "code",
   "execution_count": 3,
   "id": "53727e7d",
   "metadata": {},
   "outputs": [
    {
     "data": {
      "text/html": [
       "<div>\n",
       "<style scoped>\n",
       "    .dataframe tbody tr th:only-of-type {\n",
       "        vertical-align: middle;\n",
       "    }\n",
       "\n",
       "    .dataframe tbody tr th {\n",
       "        vertical-align: top;\n",
       "    }\n",
       "\n",
       "    .dataframe thead th {\n",
       "        text-align: right;\n",
       "    }\n",
       "</style>\n",
       "<table border=\"1\" class=\"dataframe\">\n",
       "  <thead>\n",
       "    <tr style=\"text-align: right;\">\n",
       "      <th></th>\n",
       "      <th>tag</th>\n",
       "      <th>samples</th>\n",
       "    </tr>\n",
       "  </thead>\n",
       "  <tbody>\n",
       "    <tr>\n",
       "      <th>0</th>\n",
       "      <td>base_1_4_8000</td>\n",
       "      <td>63</td>\n",
       "    </tr>\n",
       "    <tr>\n",
       "      <th>1</th>\n",
       "      <td>base_1_5_8000</td>\n",
       "      <td>113</td>\n",
       "    </tr>\n",
       "    <tr>\n",
       "      <th>2</th>\n",
       "      <td>turbo1_6_8000</td>\n",
       "      <td>91</td>\n",
       "    </tr>\n",
       "    <tr>\n",
       "      <th>3</th>\n",
       "      <td>turbo2_6_8000</td>\n",
       "      <td>110</td>\n",
       "    </tr>\n",
       "    <tr>\n",
       "      <th>4</th>\n",
       "      <td>turbo2_timed_10000</td>\n",
       "      <td>114</td>\n",
       "    </tr>\n",
       "    <tr>\n",
       "      <th>5</th>\n",
       "      <td>turbo2_timed_8000</td>\n",
       "      <td>55</td>\n",
       "    </tr>\n",
       "    <tr>\n",
       "      <th>6</th>\n",
       "      <td>turbo3_timed_10000</td>\n",
       "      <td>119</td>\n",
       "    </tr>\n",
       "    <tr>\n",
       "      <th>7</th>\n",
       "      <td>turbo3_timed_nobook_10000.csv</td>\n",
       "      <td>88</td>\n",
       "    </tr>\n",
       "    <tr>\n",
       "      <th>8</th>\n",
       "      <td>turbo4_timed_10000</td>\n",
       "      <td>175</td>\n",
       "    </tr>\n",
       "  </tbody>\n",
       "</table>\n",
       "</div>"
      ],
      "text/plain": [
       "                             tag  samples\n",
       "0                  base_1_4_8000       63\n",
       "1                  base_1_5_8000      113\n",
       "2                  turbo1_6_8000       91\n",
       "3                  turbo2_6_8000      110\n",
       "4             turbo2_timed_10000      114\n",
       "5              turbo2_timed_8000       55\n",
       "6             turbo3_timed_10000      119\n",
       "7  turbo3_timed_nobook_10000.csv       88\n",
       "8             turbo4_timed_10000      175"
      ]
     },
     "metadata": {},
     "output_type": "display_data"
    }
   ],
   "source": [
    "num_samples_table(all_data)"
   ]
  },
  {
   "cell_type": "markdown",
   "id": "ef18e354",
   "metadata": {},
   "source": [
    "__Removing selected tags:__"
   ]
  },
  {
   "cell_type": "code",
   "execution_count": 4,
   "id": "732f7b73",
   "metadata": {},
   "outputs": [],
   "source": [
    "tags_to_remove = [\n",
    "    #'base_1_4_8000',\n",
    "    #'base_1_5_8000',\n",
    "    'turbo2_timed_8000',\n",
    "    'turbo3_timed_nobook_10000.csv'\n",
    "];\n",
    "\n",
    "all_data = remove_tags(all_data, tags_to_remove)"
   ]
  },
  {
   "cell_type": "markdown",
   "id": "df8a339a",
   "metadata": {},
   "source": [
    "## Win ratio"
   ]
  },
  {
   "cell_type": "code",
   "execution_count": 5,
   "id": "206e3daa",
   "metadata": {
    "scrolled": false
   },
   "outputs": [
    {
     "data": {
      "image/png": "[encoded data removed]",
      "text/plain": [
       "<Figure size 1296x576 with 1 Axes>"
      ]
     },
     "metadata": {
      "needs_background": "light"
     },
     "output_type": "display_data"
    }
   ],
   "source": [
    "[win_ratios, confidence_intervals, draw_ratios] = win_ratio_chart(all_data)"
   ]
  },
  {
   "cell_type": "code",
   "execution_count": 6,
   "id": "66e855dc",
   "metadata": {},
   "outputs": [
    {
     "data": {
      "text/html": [
       "<div>\n",
       "<style scoped>\n",
       "    .dataframe tbody tr th:only-of-type {\n",
       "        vertical-align: middle;\n",
       "    }\n",
       "\n",
       "    .dataframe tbody tr th {\n",
       "        vertical-align: top;\n",
       "    }\n",
       "\n",
       "    .dataframe thead th {\n",
       "        text-align: right;\n",
       "    }\n",
       "</style>\n",
       "<table border=\"1\" class=\"dataframe\">\n",
       "  <thead>\n",
       "    <tr style=\"text-align: right;\">\n",
       "      <th></th>\n",
       "      <th>Overall</th>\n",
       "      <th>As white</th>\n",
       "      <th>As black</th>\n",
       "    </tr>\n",
       "    <tr>\n",
       "      <th>tag</th>\n",
       "      <th></th>\n",
       "      <th></th>\n",
       "      <th></th>\n",
       "    </tr>\n",
       "  </thead>\n",
       "  <tbody>\n",
       "    <tr>\n",
       "      <th>base_1_4_8000</th>\n",
       "      <td>0.333333</td>\n",
       "      <td>0.393939</td>\n",
       "      <td>0.242424</td>\n",
       "    </tr>\n",
       "    <tr>\n",
       "      <th>base_1_5_8000</th>\n",
       "      <td>0.557522</td>\n",
       "      <td>0.649123</td>\n",
       "      <td>0.456140</td>\n",
       "    </tr>\n",
       "    <tr>\n",
       "      <th>turbo1_6_8000</th>\n",
       "      <td>0.813187</td>\n",
       "      <td>0.804348</td>\n",
       "      <td>0.804348</td>\n",
       "    </tr>\n",
       "    <tr>\n",
       "      <th>turbo2_6_8000</th>\n",
       "      <td>0.772727</td>\n",
       "      <td>0.857143</td>\n",
       "      <td>0.660714</td>\n",
       "    </tr>\n",
       "    <tr>\n",
       "      <th>turbo2_timed_10000</th>\n",
       "      <td>0.771930</td>\n",
       "      <td>0.807018</td>\n",
       "      <td>0.736842</td>\n",
       "    </tr>\n",
       "    <tr>\n",
       "      <th>turbo3_timed_10000</th>\n",
       "      <td>0.714286</td>\n",
       "      <td>0.766667</td>\n",
       "      <td>0.650000</td>\n",
       "    </tr>\n",
       "    <tr>\n",
       "      <th>turbo4_timed_10000</th>\n",
       "      <td>0.668571</td>\n",
       "      <td>0.685393</td>\n",
       "      <td>0.629213</td>\n",
       "    </tr>\n",
       "  </tbody>\n",
       "</table>\n",
       "</div>"
      ],
      "text/plain": [
       "                     Overall  As white  As black\n",
       "tag                                             \n",
       "base_1_4_8000       0.333333  0.393939  0.242424\n",
       "base_1_5_8000       0.557522  0.649123  0.456140\n",
       "turbo1_6_8000       0.813187  0.804348  0.804348\n",
       "turbo2_6_8000       0.772727  0.857143  0.660714\n",
       "turbo2_timed_10000  0.771930  0.807018  0.736842\n",
       "turbo3_timed_10000  0.714286  0.766667  0.650000\n",
       "turbo4_timed_10000  0.668571  0.685393  0.629213"
      ]
     },
     "metadata": {},
     "output_type": "display_data"
    }
   ],
   "source": [
    "display(win_ratios)"
   ]
  },
  {
   "cell_type": "markdown",
   "id": "36e49bc8",
   "metadata": {},
   "source": [
    "__Confidence intervals__"
   ]
  },
  {
   "cell_type": "code",
   "execution_count": 7,
   "id": "0ce95c71",
   "metadata": {},
   "outputs": [
    {
     "data": {
      "text/html": [
       "<div>\n",
       "<style scoped>\n",
       "    .dataframe tbody tr th:only-of-type {\n",
       "        vertical-align: middle;\n",
       "    }\n",
       "\n",
       "    .dataframe tbody tr th {\n",
       "        vertical-align: top;\n",
       "    }\n",
       "\n",
       "    .dataframe thead th {\n",
       "        text-align: right;\n",
       "    }\n",
       "</style>\n",
       "<table border=\"1\" class=\"dataframe\">\n",
       "  <thead>\n",
       "    <tr style=\"text-align: right;\">\n",
       "      <th></th>\n",
       "      <th>Overall</th>\n",
       "      <th>As white</th>\n",
       "      <th>As black</th>\n",
       "    </tr>\n",
       "    <tr>\n",
       "      <th>tag</th>\n",
       "      <th></th>\n",
       "      <th></th>\n",
       "      <th></th>\n",
       "    </tr>\n",
       "  </thead>\n",
       "  <tbody>\n",
       "    <tr>\n",
       "      <th>base_1_4_8000</th>\n",
       "      <td>0.113416</td>\n",
       "      <td>0.158167</td>\n",
       "      <td>0.140965</td>\n",
       "    </tr>\n",
       "    <tr>\n",
       "      <th>base_1_5_8000</th>\n",
       "      <td>0.090079</td>\n",
       "      <td>0.120288</td>\n",
       "      <td>0.125184</td>\n",
       "    </tr>\n",
       "    <tr>\n",
       "      <th>turbo1_6_8000</th>\n",
       "      <td>0.079461</td>\n",
       "      <td>0.112603</td>\n",
       "      <td>0.112603</td>\n",
       "    </tr>\n",
       "    <tr>\n",
       "      <th>turbo2_6_8000</th>\n",
       "      <td>0.077529</td>\n",
       "      <td>0.091576</td>\n",
       "      <td>0.120403</td>\n",
       "    </tr>\n",
       "    <tr>\n",
       "      <th>turbo2_timed_10000</th>\n",
       "      <td>0.076274</td>\n",
       "      <td>0.101040</td>\n",
       "      <td>0.111654</td>\n",
       "    </tr>\n",
       "    <tr>\n",
       "      <th>turbo3_timed_10000</th>\n",
       "      <td>0.080168</td>\n",
       "      <td>0.104984</td>\n",
       "      <td>0.117348</td>\n",
       "    </tr>\n",
       "    <tr>\n",
       "      <th>turbo4_timed_10000</th>\n",
       "      <td>0.069084</td>\n",
       "      <td>0.094767</td>\n",
       "      <td>0.098397</td>\n",
       "    </tr>\n",
       "  </tbody>\n",
       "</table>\n",
       "</div>"
      ],
      "text/plain": [
       "                     Overall  As white  As black\n",
       "tag                                             \n",
       "base_1_4_8000       0.113416  0.158167  0.140965\n",
       "base_1_5_8000       0.090079  0.120288  0.125184\n",
       "turbo1_6_8000       0.079461  0.112603  0.112603\n",
       "turbo2_6_8000       0.077529  0.091576  0.120403\n",
       "turbo2_timed_10000  0.076274  0.101040  0.111654\n",
       "turbo3_timed_10000  0.080168  0.104984  0.117348\n",
       "turbo4_timed_10000  0.069084  0.094767  0.098397"
      ]
     },
     "metadata": {},
     "output_type": "display_data"
    }
   ],
   "source": [
    "display(confidence_intervals)"
   ]
  },
  {
   "cell_type": "markdown",
   "id": "49731119",
   "metadata": {},
   "source": [
    "__Draw rations__"
   ]
  },
  {
   "cell_type": "code",
   "execution_count": 8,
   "id": "af151c73",
   "metadata": {},
   "outputs": [
    {
     "data": {
      "text/html": [
       "<div>\n",
       "<style scoped>\n",
       "    .dataframe tbody tr th:only-of-type {\n",
       "        vertical-align: middle;\n",
       "    }\n",
       "\n",
       "    .dataframe tbody tr th {\n",
       "        vertical-align: top;\n",
       "    }\n",
       "\n",
       "    .dataframe thead th {\n",
       "        text-align: right;\n",
       "    }\n",
       "</style>\n",
       "<table border=\"1\" class=\"dataframe\">\n",
       "  <thead>\n",
       "    <tr style=\"text-align: right;\">\n",
       "      <th></th>\n",
       "      <th>As white</th>\n",
       "      <th>As black</th>\n",
       "    </tr>\n",
       "    <tr>\n",
       "      <th>tag</th>\n",
       "      <th></th>\n",
       "      <th></th>\n",
       "    </tr>\n",
       "  </thead>\n",
       "  <tbody>\n",
       "    <tr>\n",
       "      <th>base_1_4_8000</th>\n",
       "      <td>0.030303</td>\n",
       "      <td>0.000000</td>\n",
       "    </tr>\n",
       "    <tr>\n",
       "      <th>base_1_5_8000</th>\n",
       "      <td>0.017544</td>\n",
       "      <td>0.052632</td>\n",
       "    </tr>\n",
       "    <tr>\n",
       "      <th>turbo1_6_8000</th>\n",
       "      <td>0.000000</td>\n",
       "      <td>0.000000</td>\n",
       "    </tr>\n",
       "    <tr>\n",
       "      <th>turbo2_6_8000</th>\n",
       "      <td>0.035714</td>\n",
       "      <td>0.017857</td>\n",
       "    </tr>\n",
       "    <tr>\n",
       "      <th>turbo2_timed_10000</th>\n",
       "      <td>0.000000</td>\n",
       "      <td>0.000000</td>\n",
       "    </tr>\n",
       "    <tr>\n",
       "      <th>turbo3_timed_10000</th>\n",
       "      <td>0.050000</td>\n",
       "      <td>0.016667</td>\n",
       "    </tr>\n",
       "    <tr>\n",
       "      <th>turbo4_timed_10000</th>\n",
       "      <td>0.000000</td>\n",
       "      <td>0.000000</td>\n",
       "    </tr>\n",
       "  </tbody>\n",
       "</table>\n",
       "</div>"
      ],
      "text/plain": [
       "                    As white  As black\n",
       "tag                                   \n",
       "base_1_4_8000       0.030303  0.000000\n",
       "base_1_5_8000       0.017544  0.052632\n",
       "turbo1_6_8000       0.000000  0.000000\n",
       "turbo2_6_8000       0.035714  0.017857\n",
       "turbo2_timed_10000  0.000000  0.000000\n",
       "turbo3_timed_10000  0.050000  0.016667\n",
       "turbo4_timed_10000  0.000000  0.000000"
      ]
     },
     "metadata": {},
     "output_type": "display_data"
    }
   ],
   "source": [
    "display(draw_ratios)"
   ]
  }
 ],
 "metadata": {
  "kernelspec": {
   "display_name": "Python 3 (ipykernel)",
   "language": "python",
   "name": "python3"
  },
  "language_info": {
   "codemirror_mode": {
    "name": "ipython",
    "version": 3
   },
   "file_extension": ".py",
   "mimetype": "text/x-python",
   "name": "python",
   "nbconvert_exporter": "python",
   "pygments_lexer": "ipython3",
   "version": "3.9.2"
  }
 },
 "nbformat": 4,
 "nbformat_minor": 5
}
