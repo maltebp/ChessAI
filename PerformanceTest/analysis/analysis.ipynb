{
 "cells": [
  {
   "cell_type": "markdown",
   "id": "1ac8b17e",
   "metadata": {},
   "source": [
    "# Performance Test Analysis"
   ]
  },
  {
   "cell_type": "markdown",
   "id": "b26be8b9",
   "metadata": {},
   "source": [
    "### Setup"
   ]
  },
  {
   "cell_type": "code",
   "execution_count": 1,
   "id": "8a0645f5",
   "metadata": {
    "scrolled": true
   },
   "outputs": [],
   "source": [
    "from util import *"
   ]
  },
  {
   "cell_type": "markdown",
   "id": "56302143",
   "metadata": {},
   "source": [
    "### Load data"
   ]
  },
  {
   "cell_type": "code",
   "execution_count": 2,
   "id": "5f531322",
   "metadata": {},
   "outputs": [
    {
     "name": "stdout",
     "output_type": "stream",
     "text": [
      "Loaded test cases: \n",
      "  data\\base.csv\n",
      "  data\\it_nimo.csv\n",
      "  data\\it_nimo_noalloc.csv\n",
      "  data\\noalloc.csv\n",
      "  data\\turbo2.csv\n",
      "  data\\turbo3.csv\n",
      "  data\\turbo4.csv\n",
      "  data\\turbo5.csv\n"
     ]
    }
   ],
   "source": [
    "all_data = load_data(\"data\")\n",
    "max_depth_data = all_data.loc[all_data['depth'] == 6]"
   ]
  },
  {
   "cell_type": "code",
   "execution_count": 3,
   "id": "4f015adc",
   "metadata": {
    "scrolled": true
   },
   "outputs": [],
   "source": [
    "#display(all_data)"
   ]
  },
  {
   "cell_type": "code",
   "execution_count": 4,
   "id": "3e63e68a",
   "metadata": {},
   "outputs": [],
   "source": [
    "#display(max_depth_data)"
   ]
  },
  {
   "cell_type": "markdown",
   "id": "89438923",
   "metadata": {},
   "source": [
    "## Search time"
   ]
  },
  {
   "cell_type": "code",
   "execution_count": 15,
   "id": "f8235baa",
   "metadata": {
    "scrolled": false
   },
   "outputs": [
    {
     "data": {
      "image/png": "[encoded data removed]",
      "text/plain": [
       "<Figure size 1152x576 with 1 Axes>"
      ]
     },
     "metadata": {
      "needs_background": "light"
     },
     "output_type": "display_data"
    },
    {
     "data": {
      "text/html": [
       "<div>\n",
       "<style scoped>\n",
       "    .dataframe tbody tr th:only-of-type {\n",
       "        vertical-align: middle;\n",
       "    }\n",
       "\n",
       "    .dataframe tbody tr th {\n",
       "        vertical-align: top;\n",
       "    }\n",
       "\n",
       "    .dataframe thead th {\n",
       "        text-align: right;\n",
       "    }\n",
       "</style>\n",
       "<table border=\"1\" class=\"dataframe\">\n",
       "  <thead>\n",
       "    <tr style=\"text-align: right;\">\n",
       "      <th>case_name</th>\n",
       "      <th>Early game 1</th>\n",
       "      <th>Early game 2</th>\n",
       "      <th>Late game 1</th>\n",
       "      <th>Late game 2</th>\n",
       "      <th>Mid game 1</th>\n",
       "      <th>Mid game 2</th>\n",
       "      <th>Start state</th>\n",
       "    </tr>\n",
       "    <tr>\n",
       "      <th>session</th>\n",
       "      <th></th>\n",
       "      <th></th>\n",
       "      <th></th>\n",
       "      <th></th>\n",
       "      <th></th>\n",
       "      <th></th>\n",
       "      <th></th>\n",
       "    </tr>\n",
       "  </thead>\n",
       "  <tbody>\n",
       "    <tr>\n",
       "      <th>base</th>\n",
       "      <td>15.85</td>\n",
       "      <td>130.27</td>\n",
       "      <td>0.28</td>\n",
       "      <td>0.95</td>\n",
       "      <td>23.36</td>\n",
       "      <td>3.11</td>\n",
       "      <td>13.41</td>\n",
       "    </tr>\n",
       "    <tr>\n",
       "      <th>it_nimo</th>\n",
       "      <td>1.28</td>\n",
       "      <td>3.74</td>\n",
       "      <td>0.10</td>\n",
       "      <td>0.81</td>\n",
       "      <td>1.51</td>\n",
       "      <td>1.56</td>\n",
       "      <td>9.23</td>\n",
       "    </tr>\n",
       "    <tr>\n",
       "      <th>it_nimo_noalloc</th>\n",
       "      <td>0.78</td>\n",
       "      <td>1.53</td>\n",
       "      <td>0.07</td>\n",
       "      <td>0.52</td>\n",
       "      <td>0.79</td>\n",
       "      <td>0.97</td>\n",
       "      <td>4.46</td>\n",
       "    </tr>\n",
       "    <tr>\n",
       "      <th>noalloc</th>\n",
       "      <td>4.28</td>\n",
       "      <td>39.62</td>\n",
       "      <td>0.13</td>\n",
       "      <td>0.55</td>\n",
       "      <td>7.71</td>\n",
       "      <td>1.36</td>\n",
       "      <td>6.44</td>\n",
       "    </tr>\n",
       "    <tr>\n",
       "      <th>turbo2</th>\n",
       "      <td>0.52</td>\n",
       "      <td>1.55</td>\n",
       "      <td>0.09</td>\n",
       "      <td>0.43</td>\n",
       "      <td>0.60</td>\n",
       "      <td>1.02</td>\n",
       "      <td>5.79</td>\n",
       "    </tr>\n",
       "    <tr>\n",
       "      <th>turbo3</th>\n",
       "      <td>0.73</td>\n",
       "      <td>1.88</td>\n",
       "      <td>0.08</td>\n",
       "      <td>0.68</td>\n",
       "      <td>0.83</td>\n",
       "      <td>1.26</td>\n",
       "      <td>5.84</td>\n",
       "    </tr>\n",
       "    <tr>\n",
       "      <th>turbo4</th>\n",
       "      <td>1.28</td>\n",
       "      <td>4.13</td>\n",
       "      <td>0.32</td>\n",
       "      <td>3.36</td>\n",
       "      <td>2.59</td>\n",
       "      <td>3.67</td>\n",
       "      <td>11.36</td>\n",
       "    </tr>\n",
       "    <tr>\n",
       "      <th>turbo5</th>\n",
       "      <td>0.23</td>\n",
       "      <td>1.75</td>\n",
       "      <td>0.04</td>\n",
       "      <td>0.50</td>\n",
       "      <td>0.63</td>\n",
       "      <td>0.74</td>\n",
       "      <td>3.11</td>\n",
       "    </tr>\n",
       "  </tbody>\n",
       "</table>\n",
       "</div>"
      ],
      "text/plain": [
       "case_name        Early game 1  Early game 2  Late game 1  Late game 2  \\\n",
       "session                                                                 \n",
       "base                    15.85        130.27         0.28         0.95   \n",
       "it_nimo                  1.28          3.74         0.10         0.81   \n",
       "it_nimo_noalloc          0.78          1.53         0.07         0.52   \n",
       "noalloc                  4.28         39.62         0.13         0.55   \n",
       "turbo2                   0.52          1.55         0.09         0.43   \n",
       "turbo3                   0.73          1.88         0.08         0.68   \n",
       "turbo4                   1.28          4.13         0.32         3.36   \n",
       "turbo5                   0.23          1.75         0.04         0.50   \n",
       "\n",
       "case_name        Mid game 1  Mid game 2  Start state  \n",
       "session                                               \n",
       "base                  23.36        3.11        13.41  \n",
       "it_nimo                1.51        1.56         9.23  \n",
       "it_nimo_noalloc        0.79        0.97         4.46  \n",
       "noalloc                7.71        1.36         6.44  \n",
       "turbo2                 0.60        1.02         5.79  \n",
       "turbo3                 0.83        1.26         5.84  \n",
       "turbo4                 2.59        3.67        11.36  \n",
       "turbo5                 0.63        0.74         3.11  "
      ]
     },
     "metadata": {},
     "output_type": "display_data"
    }
   ],
   "source": [
    "bar_chart(max_depth_data.pivot('case_name','session', 'time'), ylabel=\"Search time (seconds)\", logscale='log') \n",
    "display(max_depth_data.pivot('session','case_name','time'))"
   ]
  },
  {
   "cell_type": "markdown",
   "id": "20c9db44",
   "metadata": {},
   "source": [
    "## Nodes visited"
   ]
  },
  {
   "cell_type": "code",
   "execution_count": 8,
   "id": "ac820495",
   "metadata": {
    "scrolled": false
   },
   "outputs": [
    {
     "data": {
      "image/png": "[encoded data removed]",
      "text/plain": [
       "<Figure size 1152x576 with 1 Axes>"
      ]
     },
     "metadata": {
      "needs_background": "light"
     },
     "output_type": "display_data"
    },
    {
     "data": {
      "text/html": [
       "<div>\n",
       "<style scoped>\n",
       "    .dataframe tbody tr th:only-of-type {\n",
       "        vertical-align: middle;\n",
       "    }\n",
       "\n",
       "    .dataframe tbody tr th {\n",
       "        vertical-align: top;\n",
       "    }\n",
       "\n",
       "    .dataframe thead th {\n",
       "        text-align: right;\n",
       "    }\n",
       "</style>\n",
       "<table border=\"1\" class=\"dataframe\">\n",
       "  <thead>\n",
       "    <tr style=\"text-align: right;\">\n",
       "      <th>case_name</th>\n",
       "      <th>Early game 1</th>\n",
       "      <th>Early game 2</th>\n",
       "      <th>Late game 1</th>\n",
       "      <th>Late game 2</th>\n",
       "      <th>Mid game 1</th>\n",
       "      <th>Mid game 2</th>\n",
       "      <th>Start state</th>\n",
       "    </tr>\n",
       "    <tr>\n",
       "      <th>session</th>\n",
       "      <th></th>\n",
       "      <th></th>\n",
       "      <th></th>\n",
       "      <th></th>\n",
       "      <th></th>\n",
       "      <th></th>\n",
       "      <th></th>\n",
       "    </tr>\n",
       "  </thead>\n",
       "  <tbody>\n",
       "    <tr>\n",
       "      <th>base</th>\n",
       "      <td>1882719</td>\n",
       "      <td>19632972</td>\n",
       "      <td>85467</td>\n",
       "      <td>325669</td>\n",
       "      <td>5627462</td>\n",
       "      <td>609601</td>\n",
       "      <td>3135482</td>\n",
       "    </tr>\n",
       "    <tr>\n",
       "      <th>it_nimo</th>\n",
       "      <td>147491</td>\n",
       "      <td>322207</td>\n",
       "      <td>27669</td>\n",
       "      <td>275981</td>\n",
       "      <td>253131</td>\n",
       "      <td>307714</td>\n",
       "      <td>1616463</td>\n",
       "    </tr>\n",
       "    <tr>\n",
       "      <th>it_nimo_noalloc</th>\n",
       "      <td>147491</td>\n",
       "      <td>322207</td>\n",
       "      <td>27669</td>\n",
       "      <td>275981</td>\n",
       "      <td>253131</td>\n",
       "      <td>307714</td>\n",
       "      <td>1616463</td>\n",
       "    </tr>\n",
       "    <tr>\n",
       "      <th>noalloc</th>\n",
       "      <td>1882719</td>\n",
       "      <td>19632972</td>\n",
       "      <td>85467</td>\n",
       "      <td>325669</td>\n",
       "      <td>5627462</td>\n",
       "      <td>609601</td>\n",
       "      <td>3135482</td>\n",
       "    </tr>\n",
       "    <tr>\n",
       "      <th>turbo2</th>\n",
       "      <td>148015</td>\n",
       "      <td>332132</td>\n",
       "      <td>28055</td>\n",
       "      <td>276190</td>\n",
       "      <td>253388</td>\n",
       "      <td>308139</td>\n",
       "      <td>1616464</td>\n",
       "    </tr>\n",
       "    <tr>\n",
       "      <th>turbo3</th>\n",
       "      <td>148015</td>\n",
       "      <td>332132</td>\n",
       "      <td>28850</td>\n",
       "      <td>280213</td>\n",
       "      <td>253043</td>\n",
       "      <td>309990</td>\n",
       "      <td>1616464</td>\n",
       "    </tr>\n",
       "    <tr>\n",
       "      <th>turbo4</th>\n",
       "      <td>148015</td>\n",
       "      <td>332132</td>\n",
       "      <td>28850</td>\n",
       "      <td>280213</td>\n",
       "      <td>253043</td>\n",
       "      <td>309990</td>\n",
       "      <td>1616464</td>\n",
       "    </tr>\n",
       "    <tr>\n",
       "      <th>turbo5</th>\n",
       "      <td>52569</td>\n",
       "      <td>272023</td>\n",
       "      <td>10777</td>\n",
       "      <td>224354</td>\n",
       "      <td>197861</td>\n",
       "      <td>193585</td>\n",
       "      <td>810305</td>\n",
       "    </tr>\n",
       "  </tbody>\n",
       "</table>\n",
       "</div>"
      ],
      "text/plain": [
       "case_name        Early game 1  Early game 2  Late game 1  Late game 2  \\\n",
       "session                                                                 \n",
       "base                  1882719      19632972        85467       325669   \n",
       "it_nimo                147491        322207        27669       275981   \n",
       "it_nimo_noalloc        147491        322207        27669       275981   \n",
       "noalloc               1882719      19632972        85467       325669   \n",
       "turbo2                 148015        332132        28055       276190   \n",
       "turbo3                 148015        332132        28850       280213   \n",
       "turbo4                 148015        332132        28850       280213   \n",
       "turbo5                  52569        272023        10777       224354   \n",
       "\n",
       "case_name        Mid game 1  Mid game 2  Start state  \n",
       "session                                               \n",
       "base                5627462      609601      3135482  \n",
       "it_nimo              253131      307714      1616463  \n",
       "it_nimo_noalloc      253131      307714      1616463  \n",
       "noalloc             5627462      609601      3135482  \n",
       "turbo2               253388      308139      1616464  \n",
       "turbo3               253043      309990      1616464  \n",
       "turbo4               253043      309990      1616464  \n",
       "turbo5               197861      193585       810305  "
      ]
     },
     "metadata": {},
     "output_type": "display_data"
    }
   ],
   "source": [
    "bar_chart(max_depth_data.pivot('case_name','session', 'nodes'), ylabel=\"Nodes visited\", logscale=True)\n",
    "display(max_depth_data.pivot('session','case_name','nodes'))"
   ]
  },
  {
   "cell_type": "markdown",
   "id": "9dd3a5f4",
   "metadata": {},
   "source": [
    "## Branching factor"
   ]
  },
  {
   "cell_type": "code",
   "execution_count": null,
   "id": "e5257e83",
   "metadata": {},
   "outputs": [],
   "source": [
    "bar_chart(max_depth_data.pivot('case_name','session', 'branching'), ylabel=\"Average branching factor (per node)\")\n",
    "display(max_depth_data.pivot('session','case_name','branching'))"
   ]
  },
  {
   "cell_type": "markdown",
   "id": "d79a4622",
   "metadata": {},
   "source": [
    "## Cutoff factor"
   ]
  },
  {
   "cell_type": "code",
   "execution_count": null,
   "id": "2f28eb55",
   "metadata": {
    "scrolled": false
   },
   "outputs": [],
   "source": [
    "bar_chart(max_depth_data.pivot('case_name','session', 'cutoffs'), ylabel=\"Average cutoffs (per node)\")\n",
    "display(max_depth_data.pivot('session','case_name','cutoffs'))"
   ]
  },
  {
   "cell_type": "markdown",
   "id": "e995d13b",
   "metadata": {},
   "source": [
    "## Dynamic Allocations"
   ]
  },
  {
   "cell_type": "code",
   "execution_count": null,
   "id": "5ee47f02",
   "metadata": {},
   "outputs": [],
   "source": [
    "bar_chart(max_depth_data.pivot('case_name','session', 'dynamic_allocs'), ylabel=\"Number of dynamic allocations\")\n",
    "display(max_depth_data.pivot('session','case_name','dynamic_allocs'))"
   ]
  },
  {
   "cell_type": "markdown",
   "id": "d1ee68b9",
   "metadata": {},
   "source": [
    "## Visited nodes per depth\n",
    "\n",
    "__Note__: This is not the number of visited nodes on each depth, but the number of nodes visited when you do a search to the given depth."
   ]
  },
  {
   "cell_type": "code",
   "execution_count": null,
   "id": "7c0528c9",
   "metadata": {
    "scrolled": false
   },
   "outputs": [],
   "source": [
    "visited_nodes_at_depth(all_data)"
   ]
  }
 ],
 "metadata": {
  "kernelspec": {
   "display_name": "Python 3 (ipykernel)",
   "language": "python",
   "name": "python3"
  },
  "language_info": {
   "codemirror_mode": {
    "name": "ipython",
    "version": 3
   },
   "file_extension": ".py",
   "mimetype": "text/x-python",
   "name": "python",
   "nbconvert_exporter": "python",
   "pygments_lexer": "ipython3",
   "version": "3.9.2"
  }
 },
 "nbformat": 4,
 "nbformat_minor": 5
}
